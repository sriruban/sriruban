{
  "nbformat": 4,
  "nbformat_minor": 0,
  "metadata": {
    "colab": {
      "name": "finalfed.ipynb",
      "provenance": [],
      "toc_visible": true
    },
    "kernelspec": {
      "display_name": "Python 3",
      "name": "python3"
    },
    "language_info": {
      "name": "python"
    }
  },
  "cells": [
    {
      "cell_type": "code",
      "metadata": {
        "id": "ChMbKD8f_BJV"
      },
      "source": [
        "import urllib.request\n",
        "\n",
        "def download_url(url, save_as):\n",
        "    response = urllib.request.urlopen(url)\n",
        "    data = response.read()\n",
        "    file = open(save_as, 'wb')\n",
        "    file.write(data)\n",
        "    file.close()\n",
        "    response.close()\n",
        "    \n",
        "def read_binary_file(file):\n",
        "    f = open(file,'rb')\n",
        "    block = f.read()\n",
        "    return block.decode('utf-16')\n",
        "\n",
        "def split_text_in_lines(text):\n",
        "    return text.split('\\r\\n')\n",
        "\n",
        "def split_by_tabs(line):\n",
        "    return line.split('\\t')\n"
      ],
      "execution_count": null,
      "outputs": []
    },
    {
      "cell_type": "code",
      "metadata": {
        "id": "5SFuFlAJ_HIs"
      },
      "source": [
        "names_link = 'https://archive.ics.uci.edu/ml/machine-learning-databases/acute/diagnosis.names'\n",
        "data_link = 'https://archive.ics.uci.edu/ml/machine-learning-databases/acute/diagnosis.data'\n",
        "diagnosis_names = 'diagnosis.names'\n",
        "diagnosis_data = 'diagnosis.data'\n",
        "download_url(names_link, diagnosis_names)\n",
        "download_url(data_link, diagnosis_data)\n"
      ],
      "execution_count": null,
      "outputs": []
    },
    {
      "cell_type": "code",
      "metadata": {
        "colab": {
          "base_uri": "https://localhost:8080/",
          "height": 35
        },
        "id": "aTJne1YwZ5Vg",
        "outputId": "faf709b7-72ee-48c8-a799-841f20cf071a"
      },
      "source": [
        "names_link\n"
      ],
      "execution_count": null,
      "outputs": [
        {
          "output_type": "execute_result",
          "data": {
            "application/vnd.google.colaboratory.intrinsic+json": {
              "type": "string"
            },
            "text/plain": [
              "'https://archive.ics.uci.edu/ml/machine-learning-databases/acute/diagnosis.names'"
            ]
          },
          "metadata": {
            "tags": []
          },
          "execution_count": 3
        }
      ]
    },
    {
      "cell_type": "code",
      "metadata": {
        "id": "CUxCm5wv_MBh"
      },
      "source": [
        "import numpy as np\n",
        "\n",
        "def parse_double(field):\n",
        "    field = field.replace(',', '.')\n",
        "    return float(field)\n",
        "\n",
        "def parse_boolean(field):\n",
        "    return 1. if field == 'yes' else 0.\n",
        "\n",
        "def read_np_array(file = diagnosis_data):\n",
        "    text = read_binary_file(file)\n",
        "    lines = split_text_in_lines(text)\n",
        "    rows = []\n",
        "    for line in lines:\n",
        "        if line == '': continue\n",
        "        line = line.replace('\\r\\n', '')\n",
        "        fields = split_by_tabs(line)\n",
        "        row = []\n",
        "        j = 0\n",
        "        for field in fields:\n",
        "            value = parse_double(field) if j == 0 else parse_boolean(field)\n",
        "            row.append(value)\n",
        "            j += 1\n",
        "        rows.append(row)\n",
        "    matrix = np.array(rows, dtype = np.float32)\n",
        "    return matrix\n"
      ],
      "execution_count": null,
      "outputs": []
    },
    {
      "cell_type": "code",
      "metadata": {
        "id": "a57OYqd0_R4p"
      },
      "source": [
        "def get_random_indexes(n):\n",
        "    indexes = list(range(n))\n",
        "    random_indexes = []\n",
        "    for i in range(n):\n",
        "        r = np.random.randint(len(indexes))\n",
        "        random_indexes.append(indexes.pop(r))\n",
        "    return random_indexes\n",
        "\n",
        "def get_indexes_for_2_datasets(n, training = 80):\n",
        "    indexes = get_random_indexes(n)\n",
        "    train = int(training / 100. * n)\n",
        "    return indexes[:train], indexes[train:]\n",
        "\n",
        "matrix = read_np_array()\n",
        "n_samples, n_dimensions = matrix.shape\n",
        "\n",
        "train_indexes, test_indexes = get_indexes_for_2_datasets(n_samples)\n",
        "train_data = matrix[train_indexes]\n",
        "test_data = matrix[test_indexes]\n",
        "\n",
        "def print_dataset(name, data):\n",
        "    print('Dataset {}. Shape: {}'.format(name, data.shape))\n",
        "    print(data)\n"
      ],
      "execution_count": null,
      "outputs": []
    },
    {
      "cell_type": "code",
      "metadata": {
        "colab": {
          "base_uri": "https://localhost:8080/"
        },
        "id": "5BVa9R4T_Wh9",
        "outputId": "511a7a0f-0ee4-4828-9a95-33df34460d28"
      },
      "source": [
        "print_dataset('Train', train_data)\n"
      ],
      "execution_count": null,
      "outputs": [
        {
          "output_type": "stream",
          "text": [
            "Dataset Train. Shape: (96, 8)\n",
            "[[41.   0.   1.   1.   0.   1.   0.   1. ]\n",
            " [36.   0.   1.   0.   0.   0.   0.   0. ]\n",
            " [37.7  0.   0.   1.   1.   0.   1.   0. ]\n",
            " [40.   1.   1.   1.   1.   0.   1.   1. ]\n",
            " [37.9  0.   0.   1.   1.   0.   1.   0. ]\n",
            " [37.   0.   0.   1.   0.   0.   1.   0. ]\n",
            " [36.7  0.   1.   0.   0.   0.   0.   0. ]\n",
            " [37.7  0.   0.   1.   1.   0.   1.   0. ]\n",
            " [40.4  1.   1.   0.   1.   0.   0.   1. ]\n",
            " [37.   0.   0.   1.   1.   0.   1.   0. ]\n",
            " [37.   0.   1.   0.   0.   0.   0.   0. ]\n",
            " [36.8  0.   0.   1.   1.   1.   1.   0. ]\n",
            " [41.   1.   1.   0.   1.   0.   0.   1. ]\n",
            " [38.1  0.   1.   1.   0.   1.   0.   1. ]\n",
            " [37.   0.   0.   1.   1.   1.   1.   0. ]\n",
            " [36.7  0.   1.   0.   0.   0.   0.   0. ]\n",
            " [37.8  0.   0.   1.   0.   0.   1.   0. ]\n",
            " [37.9  0.   0.   1.   0.   0.   1.   0. ]\n",
            " [40.   1.   1.   0.   1.   0.   0.   1. ]\n",
            " [37.   0.   0.   1.   1.   1.   1.   0. ]\n",
            " [40.9  0.   1.   1.   0.   1.   0.   1. ]\n",
            " [41.5  0.   1.   1.   0.   1.   0.   1. ]\n",
            " [37.1  0.   1.   0.   0.   0.   0.   0. ]\n",
            " [40.   0.   0.   0.   0.   0.   0.   0. ]\n",
            " [40.7  1.   1.   1.   1.   0.   1.   1. ]\n",
            " [39.7  0.   1.   1.   0.   1.   0.   1. ]\n",
            " [35.9  0.   0.   1.   1.   1.   1.   0. ]\n",
            " [37.2  0.   1.   0.   0.   0.   0.   0. ]\n",
            " [40.4  1.   1.   1.   1.   0.   1.   1. ]\n",
            " [37.8  0.   0.   1.   1.   1.   1.   0. ]\n",
            " [41.2  1.   1.   0.   1.   0.   0.   1. ]\n",
            " [40.7  0.   1.   1.   0.   1.   0.   1. ]\n",
            " [41.4  0.   1.   1.   0.   1.   0.   1. ]\n",
            " [40.8  0.   1.   1.   0.   1.   0.   1. ]\n",
            " [38.3  0.   1.   1.   0.   1.   0.   1. ]\n",
            " [40.7  1.   1.   0.   1.   0.   0.   1. ]\n",
            " [36.9  0.   1.   0.   0.   0.   0.   0. ]\n",
            " [40.6  1.   1.   0.   1.   0.   0.   1. ]\n",
            " [40.   0.   1.   1.   0.   1.   0.   1. ]\n",
            " [40.4  0.   0.   0.   0.   0.   0.   0. ]\n",
            " [37.8  0.   1.   0.   0.   0.   0.   0. ]\n",
            " [36.   0.   1.   0.   0.   0.   0.   0. ]\n",
            " [37.2  0.   0.   1.   1.   0.   1.   0. ]\n",
            " [41.1  1.   1.   0.   1.   0.   0.   1. ]\n",
            " [39.4  0.   1.   1.   0.   1.   0.   1. ]\n",
            " [38.   0.   1.   1.   0.   1.   0.   1. ]\n",
            " [37.6  0.   0.   1.   1.   1.   1.   0. ]\n",
            " [40.2  1.   1.   1.   1.   1.   1.   1. ]\n",
            " [37.4  0.   0.   1.   0.   0.   1.   0. ]\n",
            " [37.1  0.   0.   1.   1.   1.   1.   0. ]\n",
            " [37.   0.   0.   1.   1.   1.   1.   0. ]\n",
            " [36.8  0.   0.   1.   1.   1.   1.   0. ]\n",
            " [36.6  0.   1.   0.   0.   0.   0.   0. ]\n",
            " [41.1  0.   1.   1.   0.   1.   0.   1. ]\n",
            " [37.9  0.   0.   1.   1.   1.   1.   0. ]\n",
            " [37.3  0.   1.   0.   0.   0.   0.   0. ]\n",
            " [37.6  0.   0.   1.   1.   0.   1.   0. ]\n",
            " [41.1  1.   1.   1.   1.   1.   1.   1. ]\n",
            " [41.1  1.   1.   1.   1.   0.   1.   1. ]\n",
            " [40.   0.   0.   0.   0.   0.   0.   0. ]\n",
            " [35.9  0.   1.   0.   0.   0.   0.   0. ]\n",
            " [40.5  1.   1.   1.   1.   0.   1.   1. ]\n",
            " [40.6  0.   0.   0.   0.   0.   0.   0. ]\n",
            " [41.   1.   1.   1.   1.   1.   1.   1. ]\n",
            " [37.5  0.   0.   1.   0.   0.   1.   0. ]\n",
            " [41.2  0.   1.   1.   0.   1.   0.   1. ]\n",
            " [41.5  0.   0.   0.   0.   0.   0.   0. ]\n",
            " [41.5  1.   1.   0.   1.   0.   0.   1. ]\n",
            " [40.   1.   1.   0.   1.   0.   0.   1. ]\n",
            " [37.5  0.   0.   1.   1.   0.   1.   0. ]\n",
            " [38.7  0.   1.   1.   0.   1.   0.   1. ]\n",
            " [41.2  0.   0.   0.   0.   0.   0.   0. ]\n",
            " [41.1  0.   0.   0.   0.   0.   0.   0. ]\n",
            " [37.   0.   0.   1.   1.   1.   1.   0. ]\n",
            " [37.5  0.   1.   0.   0.   0.   0.   0. ]\n",
            " [40.4  1.   1.   1.   1.   1.   1.   1. ]\n",
            " [36.6  0.   0.   1.   1.   1.   1.   0. ]\n",
            " [37.9  0.   1.   0.   0.   0.   0.   0. ]\n",
            " [39.   0.   1.   1.   0.   1.   0.   1. ]\n",
            " [40.2  1.   1.   0.   1.   0.   0.   1. ]\n",
            " [41.5  0.   1.   1.   0.   1.   0.   1. ]\n",
            " [37.1  0.   0.   1.   0.   0.   1.   0. ]\n",
            " [36.3  0.   0.   1.   1.   1.   1.   0. ]\n",
            " [41.2  1.   1.   1.   1.   1.   1.   1. ]\n",
            " [37.9  0.   0.   1.   1.   0.   1.   0. ]\n",
            " [40.7  0.   0.   0.   0.   0.   0.   0. ]\n",
            " [36.9  0.   0.   1.   1.   1.   1.   0. ]\n",
            " [37.3  0.   0.   1.   1.   1.   1.   0. ]\n",
            " [36.2  0.   0.   1.   1.   1.   1.   0. ]\n",
            " [41.   0.   0.   0.   0.   0.   0.   0. ]\n",
            " [37.5  0.   0.   1.   0.   0.   1.   0. ]\n",
            " [36.7  0.   0.   1.   1.   1.   1.   0. ]\n",
            " [37.7  0.   0.   1.   0.   0.   1.   0. ]\n",
            " [40.2  0.   0.   0.   0.   0.   0.   0. ]\n",
            " [41.3  1.   1.   1.   1.   0.   1.   1. ]\n",
            " [37.5  0.   1.   0.   0.   0.   0.   0. ]]\n"
          ],
          "name": "stdout"
        }
      ]
    },
    {
      "cell_type": "code",
      "metadata": {
        "id": "O0u9MT55cj95"
      },
      "source": [
        "import tensorflow as tf"
      ],
      "execution_count": null,
      "outputs": []
    },
    {
      "cell_type": "code",
      "metadata": {
        "id": "2RG2CXmx_Ztz"
      },
      "source": [
        "import torch\n",
        "from torch.autograd import Variable\n",
        "import torch.nn as nn\n",
        "import torch.nn.functional as F\n",
        "\n",
        "input_size = 6\n",
        "learning_rate = 0.01\n",
        "num_iterations = 20000\n",
        "\n",
        "class LogisticRegression(torch.nn.Module):\n",
        "\n",
        "    def __init__(self):\n",
        "        super(LogisticRegression, self).__init__()\n",
        "        self.linear = torch.nn.Linear(input_size, 1)\n",
        "\n",
        "    def forward(self, x):\n",
        "        return torch.sigmoid(self.linear(x))\n"
      ],
      "execution_count": null,
      "outputs": []
    },
    {
      "cell_type": "code",
      "metadata": {
        "id": "NoNPbbgFcxzJ"
      },
      "source": [
        "import numpy as np"
      ],
      "execution_count": null,
      "outputs": []
    },
    {
      "cell_type": "code",
      "metadata": {
        "id": "Ku44Pvti_hAQ"
      },
      "source": [
        "def decide(y):\n",
        "    return 1. if y >= 0.5 else 0.\n",
        "\n",
        "decide_vectorized = np.vectorize(decide)\n",
        "\n",
        "to_percent = lambda x: '{:.2f}%'.format(x)\n",
        "\n",
        "def compute_accuracy(model, input, output):\n",
        "    prediction = model(input).data.numpy()[:, 0]\n",
        "    n_samples = prediction.shape[0] + 0.\n",
        "    prediction = decide_vectorized(prediction)\n",
        "    equal = prediction == output.data.numpy()\n",
        "    return 100. * equal.sum() / n_samples\n",
        "\n",
        "def get_input_and_output(data):\n",
        "    input = Variable(torch.tensor(data[:, :6], dtype = torch.float32))\n",
        "    output1 = Variable(torch.tensor(data[:, 6], dtype = torch.float32))\n",
        "    output2 = Variable(torch.tensor(data[:, 7], dtype = torch.float32))\n",
        "    return input, output1, output2\n",
        "\n",
        "input, output1, output2 = get_input_and_output(train_data)\n",
        "test_input, test_output1, test_output2 = get_input_and_output(test_data)\n",
        "\n",
        "import matplotlib.pyplot as plt\n",
        "%matplotlib inline\n",
        "\n",
        "diagnosis_title1 = 'Inflammation of Urinary Bladder'\n",
        "diagnosis_title2 = 'Nephritis of Renal Pelvis Origin'\n",
        "\n",
        "def plot_graphs(diagnosis_title, losses, accuracies):\n",
        "    plt.plot(losses)\n",
        "    plt.title(f\"{diagnosis_title} - Training Loss\")\n",
        "    plt.xlabel(\"Iterations\")\n",
        "    plt.ylabel(\"Training Loss\")\n",
        "    plt.show()\n",
        "    plt.plot(accuracies)\n",
        "    plt.title(f\"{diagnosis_title} - Training Accuracy\")\n",
        "    plt.xlabel(\"Iterations\")\n",
        "    plt.ylabel(\"Training Accuracy (Percent %)\")\n",
        "    plt.show()\n",
        "    \n",
        "def train_model(diagnosis_title, input, output, test_input, test_output):\n",
        "    model = LogisticRegression()\n",
        "    criterion = torch.nn.BCELoss(size_average=True)\n",
        "    optimizer = torch.optim.SGD(model.parameters(), lr=learning_rate)  \n",
        "    losses = []\n",
        "    accuracies = []\n",
        "    n_samples, _ = input.shape\n",
        "    for iteration in range(num_iterations):\n",
        "            optimizer.zero_grad()\n",
        "            prediction = model(input)\n",
        "            loss = criterion(prediction, output.unsqueeze(1))\n",
        "            loss.backward()\n",
        "            optimizer.step()\n",
        "            if iteration % 500 == 0:\n",
        "                train_acc = compute_accuracy(model, input, output)\n",
        "                train_loss = loss.item()\n",
        "                losses.append(train_loss)\n",
        "                accuracies.append(train_acc)\n",
        "                print('iteration={}, loss={:.4f}, train_acc={}'.format(iteration, train_loss, to_percent(train_acc)))\n",
        "    plot_graphs(diagnosis_title, losses, accuracies)\n",
        "    test_acc = compute_accuracy(model, test_input, test_output)\n",
        "    print('\\nTesting Accuracy = {}'.format(to_percent(test_acc)))\n",
        "    return model"
      ],
      "execution_count": null,
      "outputs": []
    },
    {
      "cell_type": "code",
      "metadata": {
        "colab": {
          "base_uri": "https://localhost:8080/",
          "height": 1000
        },
        "id": "nEBLahea_mOT",
        "outputId": "8da40d07-8c3c-4e24-bdb4-ab7b2082e366"
      },
      "source": [
        "#output1 = output1.unsqueeze(1) \n",
        "#loss = criterion(prediction, output.unsqueeze(1))\n",
        "model = train_model(diagnosis_title1, input, output1, test_input, test_output1)\n"
      ],
      "execution_count": null,
      "outputs": [
        {
          "output_type": "stream",
          "text": [
            "/usr/local/lib/python3.7/dist-packages/torch/nn/_reduction.py:43: UserWarning: size_average and reduce args will be deprecated, please use reduction='mean' instead.\n",
            "  warnings.warn(warning.format(ret))\n"
          ],
          "name": "stderr"
        },
        {
          "output_type": "stream",
          "text": [
            "iteration=0, loss=6.2444, train_acc=45.83%\n",
            "iteration=500, loss=1.4182, train_acc=45.83%\n",
            "iteration=1000, loss=0.8153, train_acc=61.46%\n",
            "iteration=1500, loss=0.2737, train_acc=85.42%\n",
            "iteration=2000, loss=0.1859, train_acc=100.00%\n",
            "iteration=2500, loss=0.1672, train_acc=100.00%\n",
            "iteration=3000, loss=0.1521, train_acc=100.00%\n",
            "iteration=3500, loss=0.1397, train_acc=100.00%\n",
            "iteration=4000, loss=0.1293, train_acc=100.00%\n",
            "iteration=4500, loss=0.1204, train_acc=100.00%\n",
            "iteration=5000, loss=0.1127, train_acc=100.00%\n",
            "iteration=5500, loss=0.1059, train_acc=100.00%\n",
            "iteration=6000, loss=0.0999, train_acc=100.00%\n",
            "iteration=6500, loss=0.0946, train_acc=100.00%\n",
            "iteration=7000, loss=0.0898, train_acc=100.00%\n",
            "iteration=7500, loss=0.0855, train_acc=100.00%\n",
            "iteration=8000, loss=0.0816, train_acc=100.00%\n",
            "iteration=8500, loss=0.0780, train_acc=100.00%\n",
            "iteration=9000, loss=0.0748, train_acc=100.00%\n",
            "iteration=9500, loss=0.0718, train_acc=100.00%\n",
            "iteration=10000, loss=0.0690, train_acc=100.00%\n",
            "iteration=10500, loss=0.0665, train_acc=100.00%\n",
            "iteration=11000, loss=0.0641, train_acc=100.00%\n",
            "iteration=11500, loss=0.0619, train_acc=100.00%\n",
            "iteration=12000, loss=0.0599, train_acc=100.00%\n",
            "iteration=12500, loss=0.0579, train_acc=100.00%\n",
            "iteration=13000, loss=0.0561, train_acc=100.00%\n",
            "iteration=13500, loss=0.0545, train_acc=100.00%\n",
            "iteration=14000, loss=0.0529, train_acc=100.00%\n",
            "iteration=14500, loss=0.0514, train_acc=100.00%\n",
            "iteration=15000, loss=0.0500, train_acc=100.00%\n",
            "iteration=15500, loss=0.0486, train_acc=100.00%\n",
            "iteration=16000, loss=0.0474, train_acc=100.00%\n",
            "iteration=16500, loss=0.0462, train_acc=100.00%\n",
            "iteration=17000, loss=0.0450, train_acc=100.00%\n",
            "iteration=17500, loss=0.0439, train_acc=100.00%\n",
            "iteration=18000, loss=0.0429, train_acc=100.00%\n",
            "iteration=18500, loss=0.0419, train_acc=100.00%\n",
            "iteration=19000, loss=0.0410, train_acc=100.00%\n",
            "iteration=19500, loss=0.0401, train_acc=100.00%\n"
          ],
          "name": "stdout"
        },
        {
          "output_type": "display_data",
          "data": {
            "image/png": "[encoded data removed]",
            "text/plain": [
              "<Figure size 432x288 with 1 Axes>"
            ]
          },
          "metadata": {
            "tags": [],
            "needs_background": "light"
          }
        },
        {
          "output_type": "display_data",
          "data": {
            "image/png": "[encoded data removed]",
            "text/plain": [
              "<Figure size 432x288 with 1 Axes>"
            ]
          },
          "metadata": {
            "tags": [],
            "needs_background": "light"
          }
        },
        {
          "output_type": "stream",
          "text": [
            "\n",
            "Testing Accuracy = 100.00%\n"
          ],
          "name": "stdout"
        }
      ]
    },
    {
      "cell_type": "code",
      "metadata": {
        "colab": {
          "base_uri": "https://localhost:8080/",
          "height": 1000
        },
        "id": "GiLRvJAKCmQs",
        "outputId": "7bdbeda2-4cda-429e-8175-6a747ace74e5"
      },
      "source": [
        "model = train_model(diagnosis_title2, input, output2, test_input, test_output2)\n"
      ],
      "execution_count": null,
      "outputs": [
        {
          "output_type": "stream",
          "text": [
            "iteration=0, loss=0.7640, train_acc=39.58%\n"
          ],
          "name": "stdout"
        },
        {
          "output_type": "stream",
          "text": [
            "/usr/local/lib/python3.7/dist-packages/torch/nn/_reduction.py:43: UserWarning: size_average and reduce args will be deprecated, please use reduction='mean' instead.\n",
            "  warnings.warn(warning.format(ret))\n"
          ],
          "name": "stderr"
        },
        {
          "output_type": "stream",
          "text": [
            "iteration=500, loss=1.5443, train_acc=39.58%\n",
            "iteration=1000, loss=1.2006, train_acc=39.58%\n",
            "iteration=1500, loss=0.8156, train_acc=66.67%\n",
            "iteration=2000, loss=0.4005, train_acc=84.38%\n",
            "iteration=2500, loss=0.1997, train_acc=100.00%\n",
            "iteration=3000, loss=0.1845, train_acc=100.00%\n",
            "iteration=3500, loss=0.1719, train_acc=100.00%\n",
            "iteration=4000, loss=0.1610, train_acc=100.00%\n",
            "iteration=4500, loss=0.1516, train_acc=100.00%\n",
            "iteration=5000, loss=0.1432, train_acc=100.00%\n",
            "iteration=5500, loss=0.1358, train_acc=100.00%\n",
            "iteration=6000, loss=0.1292, train_acc=100.00%\n",
            "iteration=6500, loss=0.1232, train_acc=100.00%\n",
            "iteration=7000, loss=0.1177, train_acc=100.00%\n",
            "iteration=7500, loss=0.1127, train_acc=100.00%\n",
            "iteration=8000, loss=0.1082, train_acc=100.00%\n",
            "iteration=8500, loss=0.1040, train_acc=100.00%\n",
            "iteration=9000, loss=0.1001, train_acc=100.00%\n",
            "iteration=9500, loss=0.0965, train_acc=100.00%\n",
            "iteration=10000, loss=0.0931, train_acc=100.00%\n",
            "iteration=10500, loss=0.0900, train_acc=100.00%\n",
            "iteration=11000, loss=0.0871, train_acc=100.00%\n",
            "iteration=11500, loss=0.0844, train_acc=100.00%\n",
            "iteration=12000, loss=0.0818, train_acc=100.00%\n",
            "iteration=12500, loss=0.0794, train_acc=100.00%\n",
            "iteration=13000, loss=0.0771, train_acc=100.00%\n",
            "iteration=13500, loss=0.0750, train_acc=100.00%\n",
            "iteration=14000, loss=0.0729, train_acc=100.00%\n",
            "iteration=14500, loss=0.0710, train_acc=100.00%\n",
            "iteration=15000, loss=0.0692, train_acc=100.00%\n",
            "iteration=15500, loss=0.0675, train_acc=100.00%\n",
            "iteration=16000, loss=0.0658, train_acc=100.00%\n",
            "iteration=16500, loss=0.0642, train_acc=100.00%\n",
            "iteration=17000, loss=0.0627, train_acc=100.00%\n",
            "iteration=17500, loss=0.0613, train_acc=100.00%\n",
            "iteration=18000, loss=0.0599, train_acc=100.00%\n",
            "iteration=18500, loss=0.0586, train_acc=100.00%\n",
            "iteration=19000, loss=0.0574, train_acc=100.00%\n",
            "iteration=19500, loss=0.0562, train_acc=100.00%\n"
          ],
          "name": "stdout"
        },
        {
          "output_type": "display_data",
          "data": {
            "image/png": "[encoded data removed]",
            "text/plain": [
              "<Figure size 432x288 with 1 Axes>"
            ]
          },
          "metadata": {
            "tags": [],
            "needs_background": "light"
          }
        },
        {
          "output_type": "display_data",
          "data": {
            "image/png": "[encoded data removed]",
            "text/plain": [
              "<Figure size 432x288 with 1 Axes>"
            ]
          },
          "metadata": {
            "tags": [],
            "needs_background": "light"
          }
        },
        {
          "output_type": "stream",
          "text": [
            "\n",
            "Testing Accuracy = 100.00%\n"
          ],
          "name": "stdout"
        }
      ]
    },
    {
      "cell_type": "code",
      "metadata": {
        "colab": {
          "base_uri": "https://localhost:8080/"
        },
        "id": "uZF0Z8DYC0Dx",
        "outputId": "731db3a4-186c-4cef-c750-2a7d12229a3c"
      },
      "source": [
        "!pip install syft\n"
      ],
      "execution_count": null,
      "outputs": [
        {
          "output_type": "stream",
          "text": [
            "Requirement already satisfied: syft in /usr/local/lib/python3.7/dist-packages (0.2.2a1)\n",
            "Requirement already satisfied: msgpack>=0.6.1 in /usr/local/lib/python3.7/dist-packages (from syft) (1.0.2)\n",
            "Requirement already satisfied: Flask>=1.0.2 in /usr/local/lib/python3.7/dist-packages (from syft) (1.1.4)\n",
            "Requirement already satisfied: scipy>=1.4.1 in /usr/local/lib/python3.7/dist-packages (from syft) (1.4.1)\n",
            "Requirement already satisfied: numpy>=1.16.0 in /usr/local/lib/python3.7/dist-packages (from syft) (1.19.5)\n",
            "Requirement already satisfied: Pillow<7 in /usr/local/lib/python3.7/dist-packages (from syft) (6.2.2)\n",
            "Requirement already satisfied: tblib>=1.4.0 in /usr/local/lib/python3.7/dist-packages (from syft) (1.7.0)\n",
            "Requirement already satisfied: torchvision==0.4.1 in /usr/local/lib/python3.7/dist-packages (from syft) (0.4.1)\n",
            "Requirement already satisfied: lz4>=2.1.6 in /usr/local/lib/python3.7/dist-packages (from syft) (3.1.3)\n",
            "Requirement already satisfied: zstd>=1.4.0.0 in /usr/local/lib/python3.7/dist-packages (from syft) (1.5.0.2)\n",
            "Requirement already satisfied: websocket-client>=0.56.0 in /usr/local/lib/python3.7/dist-packages (from syft) (1.1.0)\n",
            "Requirement already satisfied: websockets>=7.0 in /usr/local/lib/python3.7/dist-packages (from syft) (9.1)\n",
            "Requirement already satisfied: syft-proto>=0.1.0a1.post23 in /usr/local/lib/python3.7/dist-packages (from syft) (0.1.1a1.post17)\n",
            "Requirement already satisfied: torch==1.3 in /usr/local/lib/python3.7/dist-packages (from syft) (1.3.0)\n",
            "Requirement already satisfied: flask-socketio>=3.3.2 in /usr/local/lib/python3.7/dist-packages (from syft) (5.1.1)\n",
            "Requirement already satisfied: phe>=1.4.0 in /usr/local/lib/python3.7/dist-packages (from syft) (1.4.0)\n",
            "Requirement already satisfied: six in /usr/local/lib/python3.7/dist-packages (from torchvision==0.4.1->syft) (1.15.0)\n",
            "Requirement already satisfied: itsdangerous<2.0,>=0.24 in /usr/local/lib/python3.7/dist-packages (from Flask>=1.0.2->syft) (1.1.0)\n",
            "Requirement already satisfied: Jinja2<3.0,>=2.10.1 in /usr/local/lib/python3.7/dist-packages (from Flask>=1.0.2->syft) (2.11.3)\n",
            "Requirement already satisfied: click<8.0,>=5.1 in /usr/local/lib/python3.7/dist-packages (from Flask>=1.0.2->syft) (7.1.2)\n",
            "Requirement already satisfied: Werkzeug<2.0,>=0.15 in /usr/local/lib/python3.7/dist-packages (from Flask>=1.0.2->syft) (1.0.1)\n",
            "Requirement already satisfied: python-socketio>=5.0.2 in /usr/local/lib/python3.7/dist-packages (from flask-socketio>=3.3.2->syft) (5.4.0)\n",
            "Requirement already satisfied: MarkupSafe>=0.23 in /usr/local/lib/python3.7/dist-packages (from Jinja2<3.0,>=2.10.1->Flask>=1.0.2->syft) (2.0.1)\n",
            "Requirement already satisfied: bidict>=0.21.0 in /usr/local/lib/python3.7/dist-packages (from python-socketio>=5.0.2->flask-socketio>=3.3.2->syft) (0.21.2)\n",
            "Requirement already satisfied: python-engineio>=4.1.0 in /usr/local/lib/python3.7/dist-packages (from python-socketio>=5.0.2->flask-socketio>=3.3.2->syft) (4.2.1)\n",
            "Requirement already satisfied: protobuf>=3.11.1 in /usr/local/lib/python3.7/dist-packages (from syft-proto>=0.1.0a1.post23->syft) (3.17.3)\n"
          ],
          "name": "stdout"
        }
      ]
    },
    {
      "cell_type": "code",
      "metadata": {
        "colab": {
          "base_uri": "https://localhost:8080/"
        },
        "id": "SLu3JM4-DVF8",
        "outputId": "17c7570a-4099-4a02-b1b6-f58fa1081b06"
      },
      "source": [
        "!pip install syft==\"0.2.2a1\""
      ],
      "execution_count": null,
      "outputs": [
        {
          "output_type": "stream",
          "text": [
            "Requirement already satisfied: syft==0.2.2a1 in /usr/local/lib/python3.7/dist-packages (0.2.2a1)\n",
            "Requirement already satisfied: phe>=1.4.0 in /usr/local/lib/python3.7/dist-packages (from syft==0.2.2a1) (1.4.0)\n",
            "Requirement already satisfied: torchvision==0.4.1 in /usr/local/lib/python3.7/dist-packages (from syft==0.2.2a1) (0.4.1)\n",
            "Requirement already satisfied: zstd>=1.4.0.0 in /usr/local/lib/python3.7/dist-packages (from syft==0.2.2a1) (1.5.0.2)\n",
            "Requirement already satisfied: numpy>=1.16.0 in /usr/local/lib/python3.7/dist-packages (from syft==0.2.2a1) (1.19.5)\n",
            "Requirement already satisfied: websocket-client>=0.56.0 in /usr/local/lib/python3.7/dist-packages (from syft==0.2.2a1) (1.1.0)\n",
            "Requirement already satisfied: syft-proto>=0.1.0a1.post23 in /usr/local/lib/python3.7/dist-packages (from syft==0.2.2a1) (0.1.1a1.post17)\n",
            "Requirement already satisfied: tblib>=1.4.0 in /usr/local/lib/python3.7/dist-packages (from syft==0.2.2a1) (1.7.0)\n",
            "Requirement already satisfied: scipy>=1.4.1 in /usr/local/lib/python3.7/dist-packages (from syft==0.2.2a1) (1.4.1)\n",
            "Requirement already satisfied: Pillow<7 in /usr/local/lib/python3.7/dist-packages (from syft==0.2.2a1) (6.2.2)\n",
            "Requirement already satisfied: torch==1.3 in /usr/local/lib/python3.7/dist-packages (from syft==0.2.2a1) (1.3.0)\n",
            "Requirement already satisfied: flask-socketio>=3.3.2 in /usr/local/lib/python3.7/dist-packages (from syft==0.2.2a1) (5.1.1)\n",
            "Requirement already satisfied: Flask>=1.0.2 in /usr/local/lib/python3.7/dist-packages (from syft==0.2.2a1) (1.1.4)\n",
            "Requirement already satisfied: websockets>=7.0 in /usr/local/lib/python3.7/dist-packages (from syft==0.2.2a1) (9.1)\n",
            "Requirement already satisfied: lz4>=2.1.6 in /usr/local/lib/python3.7/dist-packages (from syft==0.2.2a1) (3.1.3)\n",
            "Requirement already satisfied: msgpack>=0.6.1 in /usr/local/lib/python3.7/dist-packages (from syft==0.2.2a1) (1.0.2)\n",
            "Requirement already satisfied: six in /usr/local/lib/python3.7/dist-packages (from torchvision==0.4.1->syft==0.2.2a1) (1.15.0)\n",
            "Requirement already satisfied: Werkzeug<2.0,>=0.15 in /usr/local/lib/python3.7/dist-packages (from Flask>=1.0.2->syft==0.2.2a1) (1.0.1)\n",
            "Requirement already satisfied: Jinja2<3.0,>=2.10.1 in /usr/local/lib/python3.7/dist-packages (from Flask>=1.0.2->syft==0.2.2a1) (2.11.3)\n",
            "Requirement already satisfied: itsdangerous<2.0,>=0.24 in /usr/local/lib/python3.7/dist-packages (from Flask>=1.0.2->syft==0.2.2a1) (1.1.0)\n",
            "Requirement already satisfied: click<8.0,>=5.1 in /usr/local/lib/python3.7/dist-packages (from Flask>=1.0.2->syft==0.2.2a1) (7.1.2)\n",
            "Requirement already satisfied: python-socketio>=5.0.2 in /usr/local/lib/python3.7/dist-packages (from flask-socketio>=3.3.2->syft==0.2.2a1) (5.4.0)\n",
            "Requirement already satisfied: MarkupSafe>=0.23 in /usr/local/lib/python3.7/dist-packages (from Jinja2<3.0,>=2.10.1->Flask>=1.0.2->syft==0.2.2a1) (2.0.1)\n",
            "Requirement already satisfied: bidict>=0.21.0 in /usr/local/lib/python3.7/dist-packages (from python-socketio>=5.0.2->flask-socketio>=3.3.2->syft==0.2.2a1) (0.21.2)\n",
            "Requirement already satisfied: python-engineio>=4.1.0 in /usr/local/lib/python3.7/dist-packages (from python-socketio>=5.0.2->flask-socketio>=3.3.2->syft==0.2.2a1) (4.2.1)\n",
            "Requirement already satisfied: protobuf>=3.11.1 in /usr/local/lib/python3.7/dist-packages (from syft-proto>=0.1.0a1.post23->syft==0.2.2a1) (3.17.3)\n"
          ],
          "name": "stdout"
        }
      ]
    },
    {
      "cell_type": "code",
      "metadata": {
        "colab": {
          "base_uri": "https://localhost:8080/"
        },
        "id": "Yg8WllKVEInU",
        "outputId": "fbae22c3-d289-4aac-eeab-2b1fa83d1839"
      },
      "source": [
        "!pip install syft_proto==\"0.1.1a1.post17\""
      ],
      "execution_count": null,
      "outputs": [
        {
          "output_type": "stream",
          "text": [
            "Requirement already satisfied: syft_proto==0.1.1a1.post17 in /usr/local/lib/python3.7/dist-packages (0.1.1a1.post17)\n",
            "Requirement already satisfied: protobuf>=3.11.1 in /usr/local/lib/python3.7/dist-packages (from syft_proto==0.1.1a1.post17) (3.17.3)\n",
            "Requirement already satisfied: six>=1.9 in /usr/local/lib/python3.7/dist-packages (from protobuf>=3.11.1->syft_proto==0.1.1a1.post17) (1.15.0)\n"
          ],
          "name": "stdout"
        }
      ]
    },
    {
      "cell_type": "code",
      "metadata": {
        "colab": {
          "base_uri": "https://localhost:8080/"
        },
        "id": "9VcYbCoBDC7X",
        "outputId": "63c16911-425d-4bb6-c41d-790ac43d2d62"
      },
      "source": [
        "import syft as sy\n",
        "import torch as th\n",
        "hook = sy.TorchHook(th)\n",
        "from torch import nn, optim\n"
      ],
      "execution_count": null,
      "outputs": [
        {
          "output_type": "stream",
          "text": [
            "WARNING:root:Torch was already hooked... skipping hooking process\n"
          ],
          "name": "stderr"
        }
      ]
    },
    {
      "cell_type": "code",
      "metadata": {
        "id": "fGm9T3QWEO4W"
      },
      "source": [
        "n_hospitals = 4\n",
        "hospitals = []\n"
      ],
      "execution_count": null,
      "outputs": []
    },
    {
      "cell_type": "code",
      "metadata": {
        "id": "mvTdGorkEUG3"
      },
      "source": [
        "for i in range(n_hospitals):\n",
        "    hospital_name = 'hospital{}'.format(i)\n",
        "    hospital = sy.VirtualWorker(hook, id = hospital_name)\n",
        "    hospitals.append(hospital)\n",
        "secure_worker = sy.VirtualWorker(hook, id=\"secure_worker\")\n"
      ],
      "execution_count": null,
      "outputs": []
    },
    {
      "cell_type": "code",
      "metadata": {
        "id": "cQs_5OA_EZ1m",
        "colab": {
          "base_uri": "https://localhost:8080/"
        },
        "outputId": "49c307b1-c16f-4ece-f4b0-aba607175e0b"
      },
      "source": [
        "def get_workers_names(workers):\n",
        "    return [worker.id for worker in workers]\n",
        "\n",
        "def add_and_print_workers(worker, workers):\n",
        "    print('workers of {} = {}'.format(worker.id, get_workers_names(workers)))\n",
        "    worker.add_workers(workers)\n",
        "\n",
        "for i in range(n_hospitals):\n",
        "    workers = [hospitals[i2] for i2 in range(n_hospitals) if i2 != i] + [secure_worker]\n",
        "    add_and_print_workers(hospitals[i], workers)\n",
        "add_and_print_workers(secure_worker, hospitals)\n"
      ],
      "execution_count": null,
      "outputs": [
        {
          "output_type": "stream",
          "text": [
            "WARNING:syft.workers.base:Worker hospital1 already exists. Replacing old worker which could cause                     unexpected behavior\n",
            "WARNING:syft.workers.base:Worker hospital2 already exists. Replacing old worker which could cause                     unexpected behavior\n",
            "WARNING:syft.workers.base:Worker hospital3 already exists. Replacing old worker which could cause                     unexpected behavior\n",
            "WARNING:syft.workers.base:Worker secure_worker already exists. Replacing old worker which could cause                     unexpected behavior\n",
            "WARNING:syft.workers.base:Worker hospital0 already exists. Replacing old worker which could cause                     unexpected behavior\n",
            "WARNING:syft.workers.base:Worker hospital2 already exists. Replacing old worker which could cause                     unexpected behavior\n",
            "WARNING:syft.workers.base:Worker hospital3 already exists. Replacing old worker which could cause                     unexpected behavior\n",
            "WARNING:syft.workers.base:Worker secure_worker already exists. Replacing old worker which could cause                     unexpected behavior\n",
            "WARNING:syft.workers.base:Worker hospital0 already exists. Replacing old worker which could cause                     unexpected behavior\n",
            "WARNING:syft.workers.base:Worker hospital1 already exists. Replacing old worker which could cause                     unexpected behavior\n",
            "WARNING:syft.workers.base:Worker hospital3 already exists. Replacing old worker which could cause                     unexpected behavior\n",
            "WARNING:syft.workers.base:Worker secure_worker already exists. Replacing old worker which could cause                     unexpected behavior\n",
            "WARNING:syft.workers.base:Worker hospital0 already exists. Replacing old worker which could cause                     unexpected behavior\n",
            "WARNING:syft.workers.base:Worker hospital1 already exists. Replacing old worker which could cause                     unexpected behavior\n",
            "WARNING:syft.workers.base:Worker hospital2 already exists. Replacing old worker which could cause                     unexpected behavior\n",
            "WARNING:syft.workers.base:Worker secure_worker already exists. Replacing old worker which could cause                     unexpected behavior\n",
            "WARNING:syft.workers.base:Worker hospital0 already exists. Replacing old worker which could cause                     unexpected behavior\n",
            "WARNING:syft.workers.base:Worker hospital1 already exists. Replacing old worker which could cause                     unexpected behavior\n",
            "WARNING:syft.workers.base:Worker hospital2 already exists. Replacing old worker which could cause                     unexpected behavior\n",
            "WARNING:syft.workers.base:Worker hospital3 already exists. Replacing old worker which could cause                     unexpected behavior\n"
          ],
          "name": "stderr"
        },
        {
          "output_type": "stream",
          "text": [
            "workers of hospital0 = ['hospital1', 'hospital2', 'hospital3', 'secure_worker']\n",
            "workers of hospital1 = ['hospital0', 'hospital2', 'hospital3', 'secure_worker']\n",
            "workers of hospital2 = ['hospital0', 'hospital1', 'hospital3', 'secure_worker']\n",
            "workers of hospital3 = ['hospital0', 'hospital1', 'hospital2', 'secure_worker']\n",
            "workers of secure_worker = ['hospital0', 'hospital1', 'hospital2', 'hospital3']\n"
          ],
          "name": "stdout"
        }
      ]
    },
    {
      "cell_type": "code",
      "metadata": {
        "id": "qyeyj12rEgH_",
        "colab": {
          "base_uri": "https://localhost:8080/"
        },
        "outputId": "2d2ba79d-77dc-4f9b-dc01-a7bd0116bdae"
      },
      "source": [
        "n_samples = train_data.shape[0]\n",
        "samples_per_hospital = int((n_samples + 0.5) / n_hospitals)\n",
        "hospital_features = []\n",
        "hospital_targets1 = []\n",
        "hospital_targets2 = []\n",
        "train_data = th.tensor(train_data, dtype = torch.float32, requires_grad=True)\n",
        "for i in range(n_hospitals):\n",
        "    train_data2 = train_data[i * samples_per_hospital:(i + 1) * samples_per_hospital].clone().detach().requires_grad_(True)\n",
        "    features = train_data2[:, :6].clone().detach().requires_grad_(True)\n",
        "    targets1 = train_data2[:, 6][:, None].clone().detach() \n",
        "    targets2 = train_data2[:, 7][:, None].clone().detach() \n",
        "    hospital_features.append(features.send(hospitals[i]))\n",
        "    hospital_targets1.append(targets1.send(hospitals[i]))\n",
        "    hospital_targets2.append(targets2.send(hospitals[i]))\n",
        "\n",
        "print(model)\n"
      ],
      "execution_count": null,
      "outputs": [
        {
          "output_type": "stream",
          "text": [
            "LogisticRegression(\n",
            "  (linear): Linear(in_features=6, out_features=1, bias=True)\n",
            ")\n"
          ],
          "name": "stdout"
        }
      ]
    },
    {
      "cell_type": "code",
      "metadata": {
        "id": "dPJGRDbkE48x"
      },
      "source": [
        "def plot_federated_graphs(diagnosis_title, losses, accuracies):\n",
        "    for i in range(n_hospitals):\n",
        "        plt.plot(losses[i], label=f'Hospital {i}')\n",
        "    legend = plt.legend(loc='upper right', shadow=True)\n",
        "    plt.title(f\"{diagnosis_title} - Training Loss\")\n",
        "    plt.xlabel(\"Iterations\")\n",
        "    plt.ylabel(\"Training Loss\")\n",
        "    plt.show()\n",
        "    for i in range(n_hospitals):\n",
        "        plt.plot(accuracies[i], label=f'Hospital {i}')\n",
        "    legend = plt.legend(loc='lower right', shadow=True)\n",
        "    plt.title(f\"{diagnosis_title} - Training Accuracy\")\n",
        "    plt.xlabel(\"Iterations\")\n",
        "    plt.ylabel(\"Training Accuracy (Percent %)\")\n",
        "    plt.show()\n"
      ],
      "execution_count": null,
      "outputs": []
    },
    {
      "cell_type": "code",
      "metadata": {
        "id": "FDC1K6RrE-Qf"
      },
      "source": [
        "def compute_federated_accuracy(model, input, output):\n",
        "    prediction = model(input)\n",
        "    n_samples = prediction.shape[0]\n",
        "    s = 0.\n",
        "    for i in range(n_samples):\n",
        "        p = 1. if prediction[i] >= 0.5 else 0.\n",
        "        e = 1. if p == output[i] else 0.\n",
        "        s += e\n",
        "    return 100. * s / n_samples\n",
        "\n",
        "iterations = 1000 #2000\n",
        "worker_iterations = 5\n"
      ],
      "execution_count": null,
      "outputs": []
    },
    {
      "cell_type": "code",
      "metadata": {
        "id": "LbXNnKLMFCW1"
      },
      "source": [
        "def federated_learning(diagnosis_title, hospital_features, hospital_targets, test_input, test_output):\n",
        "    model = LogisticRegression()\n",
        "    criterion = torch.nn.BCELoss(size_average=True)\n",
        "    optimizer = torch.optim.SGD(model.parameters(), lr=learning_rate)  \n",
        "    losses = [[] for i in range(n_hospitals)]\n",
        "    accuracies = [[] for i in range(n_hospitals)]\n",
        "    for iteration in range(iterations):\n",
        "        models = [model.copy().send(hospitals[i]) for i in range(n_hospitals)]\n",
        "        optimizers = [torch.optim.SGD(params = models[i].parameters(), lr = learning_rate) for i in range(n_hospitals)]\n",
        "        for worker_iteration in range(worker_iterations):\n",
        "            last_losses = []\n",
        "            for i in range(n_hospitals):\n",
        "                optimizers[i].zero_grad()\n",
        "                prediction = models[i](hospital_features[i])\n",
        "                loss = criterion(prediction, hospital_targets[i])\n",
        "                loss.backward()\n",
        "                optimizers[i].step()\n",
        "                loss = loss.get().data.item()\n",
        "                last_losses.append(loss)\n",
        "        for i in range(n_hospitals):\n",
        "            losses[i].append(last_losses[i])\n",
        "            train_acc = compute_federated_accuracy(models[i], hospital_features[i], hospital_targets[i])\n",
        "            accuracies[i].append(train_acc)\n",
        "            models[i].move(secure_worker)\n",
        "        with th.no_grad():\n",
        "            avg_weight = sum([models[i].linear.weight.data for i in range(n_hospitals)]) / n_hospitals\n",
        "            model.linear.weight.set_(avg_weight.get())\n",
        "            avg_bias = sum([models[i].linear.bias.data for i in range(n_hospitals)]) / n_hospitals\n",
        "            model.linear.bias.set_(avg_bias.get())\n",
        "        if iteration % 100 == 0:\n",
        "            losses_str = ['{:.4f}'.format(losses[i][-1]) for i in range(n_hospitals)]\n",
        "            accuracies_str = [to_percent(accuracies[i][-1]) for i in range(n_hospitals)]\n",
        "            print('Iteration={}, losses={}, accuracies={}'.format(iteration, losses_str, accuracies_str))\n",
        "    plot_federated_graphs(diagnosis_title, losses, accuracies)\n",
        "    test_acc = compute_accuracy(model, test_input, test_output)\n",
        "    print('\\nTesting Accuracy = {}'.format(to_percent(test_acc)))\n",
        "    return model\n"
      ],
      "execution_count": null,
      "outputs": []
    },
    {
      "cell_type": "code",
      "metadata": {
        "id": "Y9zytB0uFHrr",
        "colab": {
          "base_uri": "https://localhost:8080/",
          "height": 808
        },
        "outputId": "fcc83513-a1b7-462d-841b-3905bf2297a0"
      },
      "source": [
        "model = federated_learning(diagnosis_title1, hospital_features, hospital_targets1, test_input, test_output1)\n"
      ],
      "execution_count": null,
      "outputs": [
        {
          "output_type": "stream",
          "text": [
            "/usr/local/lib/python3.7/dist-packages/torch/nn/_reduction.py:43: UserWarning: size_average and reduce args will be deprecated, please use reduction='mean' instead.\n",
            "  warnings.warn(warning.format(ret))\n"
          ],
          "name": "stderr"
        },
        {
          "output_type": "stream",
          "text": [
            "Iteration=0, losses=['1.1678', '0.6273', '1.7701', '2.0642'], accuracies=['54.17%', '62.50%', '50.00%', '41.67%']\n",
            "Iteration=100, losses=['0.9610', '0.8764', '1.3488', '1.3377'], accuracies=['54.17%', '83.33%', '50.00%', '41.67%']\n",
            "Iteration=200, losses=['0.6895', '0.2570', '0.9944', '0.8541'], accuracies=['54.17%', '100.00%', '50.00%', '58.33%']\n",
            "Iteration=300, losses=['0.2528', '0.1991', '0.3835', '0.2140'], accuracies=['87.50%', '87.50%', '75.00%', '100.00%']\n",
            "Iteration=400, losses=['0.1834', '0.1594', '0.1881', '0.1735'], accuracies=['100.00%', '100.00%', '100.00%', '100.00%']\n",
            "Iteration=500, losses=['0.1648', '0.1432', '0.1693', '0.1551'], accuracies=['100.00%', '100.00%', '100.00%', '100.00%']\n",
            "Iteration=600, losses=['0.1497', '0.1307', '0.1543', '0.1410'], accuracies=['100.00%', '100.00%', '100.00%', '100.00%']\n",
            "Iteration=700, losses=['0.1373', '0.1206', '0.1421', '0.1295'], accuracies=['100.00%', '100.00%', '100.00%', '100.00%']\n",
            "Iteration=800, losses=['0.1268', '0.1120', '0.1317', '0.1199'], accuracies=['100.00%', '100.00%', '100.00%', '100.00%']\n",
            "Iteration=900, losses=['0.1178', '0.1046', '0.1229', '0.1117'], accuracies=['100.00%', '100.00%', '100.00%', '100.00%']\n"
          ],
          "name": "stdout"
        },
        {
          "output_type": "display_data",
          "data": {
            "image/png": "[encoded data removed]",
            "text/plain": [
              "<Figure size 432x288 with 1 Axes>"
            ]
          },
          "metadata": {
            "tags": [],
            "needs_background": "light"
          }
        },
        {
          "output_type": "display_data",
          "data": {
            "image/png": "[encoded data removed]",
            "text/plain": [
              "<Figure size 432x288 with 1 Axes>"
            ]
          },
          "metadata": {
            "tags": [],
            "needs_background": "light"
          }
        },
        {
          "output_type": "stream",
          "text": [
            "\n",
            "Testing Accuracy = 100.00%\n"
          ],
          "name": "stdout"
        }
      ]
    },
    {
      "cell_type": "code",
      "metadata": {
        "id": "YtGfF9w_FMtq",
        "colab": {
          "base_uri": "https://localhost:8080/",
          "height": 808
        },
        "outputId": "0b9998d1-086a-463e-e965-9cbbd5689527"
      },
      "source": [
        "model = federated_learning(diagnosis_title2, hospital_features, hospital_targets2, test_input, test_output2)\n"
      ],
      "execution_count": null,
      "outputs": [
        {
          "output_type": "stream",
          "text": [
            "/usr/local/lib/python3.7/dist-packages/torch/nn/_reduction.py:43: UserWarning: size_average and reduce args will be deprecated, please use reduction='mean' instead.\n",
            "  warnings.warn(warning.format(ret))\n"
          ],
          "name": "stderr"
        },
        {
          "output_type": "stream",
          "text": [
            "Iteration=0, losses=['1.4742', '1.2348', '2.1578', '0.7349'], accuracies=['33.33%', '37.50%', '37.50%', '75.00%']\n",
            "Iteration=100, losses=['0.6759', '1.7907', '0.6002', '0.3988'], accuracies=['66.67%', '100.00%', '62.50%', '95.83%']\n",
            "Iteration=200, losses=['0.7605', '0.9987', '0.6808', '0.3279'], accuracies=['66.67%', '41.67%', '62.50%', '100.00%']\n",
            "Iteration=300, losses=['0.6122', '1.0105', '0.6139', '0.2309'], accuracies=['66.67%', '50.00%', '62.50%', '91.67%']\n",
            "Iteration=400, losses=['0.5106', '0.9040', '0.3897', '0.1971'], accuracies=['66.67%', '66.67%', '70.83%', '91.67%']\n",
            "Iteration=500, losses=['0.4048', '0.5047', '0.2139', '0.1677'], accuracies=['66.67%', '66.67%', '100.00%', '95.83%']\n",
            "Iteration=600, losses=['0.2635', '0.2509', '0.1743', '0.1504'], accuracies=['87.50%', '100.00%', '100.00%', '100.00%']\n",
            "Iteration=700, losses=['0.2020', '0.2530', '0.1590', '0.1387'], accuracies=['100.00%', '83.33%', '100.00%', '100.00%']\n",
            "Iteration=800, losses=['0.1875', '0.2273', '0.1479', '0.1291'], accuracies=['100.00%', '87.50%', '100.00%', '100.00%']\n",
            "Iteration=900, losses=['0.1757', '0.2077', '0.1385', '0.1209'], accuracies=['100.00%', '100.00%', '100.00%', '100.00%']\n"
          ],
          "name": "stdout"
        },
        {
          "output_type": "display_data",
          "data": {
            "image/png": "[encoded data removed]",
            "text/plain": [
              "<Figure size 432x288 with 1 Axes>"
            ]
          },
          "metadata": {
            "tags": [],
            "needs_background": "light"
          }
        },
        {
          "output_type": "display_data",
          "data": {
            "image/png": "[encoded data removed]",
            "text/plain": [
              "<Figure size 432x288 with 1 Axes>"
            ]
          },
          "metadata": {
            "tags": [],
            "needs_background": "light"
          }
        },
        {
          "output_type": "stream",
          "text": [
            "\n",
            "Testing Accuracy = 100.00%\n"
          ],
          "name": "stdout"
        }
      ]
    },
    {
      "cell_type": "code",
      "metadata": {
        "id": "62HvU_wxEUME"
      },
      "source": [
        ""
      ],
      "execution_count": null,
      "outputs": []
    }
  ]
}